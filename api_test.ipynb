{
 "cells": [
  {
   "cell_type": "code",
   "execution_count": 5,
   "metadata": {},
   "outputs": [
    {
     "data": {
      "text/plain": [
       "<Response [404]>"
      ]
     },
     "execution_count": 5,
     "metadata": {},
     "output_type": "execute_result"
    }
   ],
   "source": [
    "import requests\n",
    "# url = \"http://api.open-notify.org/astros.json\"\n",
    "url=\"http://www.realtimetrains.co.uk/api/pull\"\n",
    "r = requests.get(url)\n",
    "r"
   ]
  },
  {
   "cell_type": "code",
   "execution_count": 6,
   "metadata": {},
   "outputs": [
    {
     "data": {
      "text/plain": [
       "b'<!doctype html>\\n<html class=\"no-js\" lang=\"en\">\\n  <head>\\n    <meta charset=\"utf-8\" />\\n    <meta http-equiv=\"x-ua-compatible\" content=\"ie=edge\">\\n    <meta name=\"viewport\" content=\"width=device-width, initial-scale=1.0\">\\n    <meta name=\"author\" content=\"Realtime Trains\" />\\n\\n    \\n      <meta name=\"description\" content=\"Realtime Trains is an independent source of live realtime running information for the Great British railway network.\" />\\n    \\n\\n    \\n      <meta property=\"og:title\" content=\"Realtime Trains\" />\\n      <meta property=\"twitter:title\" content=\"Realtime Trains\" />\\n      <title>Realtime Trains</title>\\n    \\n\\n    <!-- preloads -->\\n    <link rel=\"preload\" href=\"/assets/fonts/riftsoft-bold-webfont.woff\" as=\"font\" type=\"font/woff2\" crossorigin>\\n    <link rel=\"preload\" href=\"/assets/fonts/uraniamed-webfont.woff2\" as=\"font\" type=\"font/woff2\" crossorigin>\\n\\n    <link rel=\"stylesheet\" href=\"/assets/css/app-b1a659b9.css\">\\n    \\n\\n    <script type=\"text/javascript\">window[\\'gtag_enable_tcf_support\\'] = true;\\n    (function(w,d,s,l,i){w[l]=w[l]||[];w[l].push({\\'gtm.start\\':\\n      new Date().getTime(),event:\\'gtm.js\\'});var f=d.getElementsByTagName(s)[0],\\n      j=d.createElement(s),dl=l!=\\'dataLayer\\'?\\'&l=\\'+l:\\'\\';j.async=true;j.src=\\n      \\'https://www.googletagmanager.com/gtm.js?id=\\'+i+dl;f.parentNode.insertBefore(j,f);\\n      })(window,document,\\'script\\',\\'dataLayer\\',\\'GTM-MZLS477\\');</script>\\n    \\n\\n    <!-- Default favicon -->\\n    <link rel=\"icon\" href=\"/assets/img/favicon/favicon-32-e1e094d9.png\" sizes=\"32x32\">\\n    <link rel=\"icon\" href=\"/assets/img/favicon/favicon-128-f0525294.png\" sizes=\"128x128\">\\n    <link rel=\"icon\" href=\"/assets/img/favicon/favicon-196-46828a3b.png\" sizes=\"196x196\">\\n\\n    <!-- iOS -->\\n    <link rel=\"apple-touch-icon\" href=\"/assets/img/favicon/favicon-152-8742b687.png\" sizes=\"152x152\">\\n    <link rel=\"apple-touch-icon\" href=\"/assets/img/favicon/favicon-180-ddf7b4d0.png\" sizes=\"180x180\">\\n\\n    <!-- Android -->\\n    <link rel=\"shortcut icon\" href=\"/assets/img/favicon/favicon-196-46828a3b.png\" sizes=\"196x196\">\\n    \\n  </head>\\n  <body class=\" \"   >\\n<div class=\"top-bar-container\">\\n  <div class=\"row column\">\\n    <div class=\"top-bar\">\\n      <div class=\"top-bar-title\">\\n        <div class=\"logo-container\">\\n          <a href=\"/\"><div class=\"logo\" aria-label=\"RTT Logo\"></div></a>\\n        </div>\\n      </div>\\n      <div class=\"text-right responsive-menu\" data-responsive-toggle=\"top-bar-items\" >\\n        <div class=\"title-bar-title\" id=\"title-bar-title\">Menu</div>\\n        <button class=\"menu-icon\" type=\"button\" data-toggle=\"top-bar-items\" aria-labelledby=\"title-bar-title\"></button>\\n      </div>\\n      \\n        <div id=\"top-bar-items\">\\n          <div class=\"top-bar-left\"><ul class=\"menu\">\\n    <li><a href=\"//blog.realtimetrains.com\">News</a>\\n    <li ><a href=\"/search/\">Search</a>\\n    <li><a href=\"/about/\">Contact</a>\\n    <li><a href=\"https://shop.realtimetrains.com\">Shop</a>\\n</ul></div>\\n          <div class=\"top-bar-right\"><form method=\"get\" action=\"/search/handler\">\\n    <ul class=\"menu\">\\n    <li><input type=\"search\" placeholder=\"Quick Search\" name=\"qsearch\">\\n    <li><button class=\"button\" type=\"submit\">Go</button>\\n                        \\n    </ul>\\n</form></div>\\n        </div>\\n      \\n    </div>\\n  </div>\\n</div>\\n<main>\\n    <div class=\"signal-wrap\">\\n    <div class=\"signal\">\\n        <div class=\"head\">\\n            <div class=\"aspects\">\\n                <div class=\"aspect \"></div>\\n                <div class=\"aspect r\"></div>\\n            </div>\\n        </div>\\n        <div class=\"pole\"></div>\\n        <div class=\"plate\">\\n            RTT<br />\\n            404\\n        </div>\\n        <div class=\"pole\"></div>\\n        <div class=\"pole\"></div>\\n    </div>\\n    <div class=\"info\">\\n        <h3>Not found</h3>\\n        <p>\\n           The overhead line equipment for this page is not installed and electric traction cannot proceed further. It may never have been installed, or has been removed. \\n        </p>\\n        <p>\\n           Just in case there was meant to be a page here, we\\'ve asked the website MOM to investigate further.\\n        </p>\\n    </div>\\n</div>\\n\\n</main>    \\n    <footer>\\n      \\n      <hr />\\n      <div class=\"grid-container\">\\n        <div class=\"grid-x grid-y-margin\">\\n          <div class=\"small-6 medium-3 large-auto cell\">\\n            <h5><a href=\"/search/\">View The Trains</a></h5>\\n            <ul class=\"no-bullet\">\\n              <li><a href=\"/search/simple/\">Simple</a>\\n              <li><a href=\"/search/detailed/\">Detailed</a>\\n            </ul>\\n          </div>\\n          <div class=\"small-6 medium-3 large-auto cell\">\\n            <h5><a href=\"/about/developer/\">Data Feeds</a></h5>\\n            <ul class=\"no-bullet\">\\n              <li><a href=\"https://api.rtt.io\">API Portal</a>\\n              <li><a href=\"/about/developer/pull/docs/\">API Documentation</a>\\n            </ul>\\n          </div>\\n          <div class=\"small-6 medium-3 large-auto cell\">\\n            <h5>Help</h5>\\n            <ul class=\"no-bullet\">\\n              <li><a href=\"/about/trackyourtrain/\">Track Your Train</a></li>\\n              <li><a href=\"/about/knowyourtrain/\">Know Your Train</a></li>\\n            </ul>\\n          </div>\\n          <div class=\"small-6 medium-3 large-auto cell\">\\n            <h5><a href=\"/about/\">About us</a></h5>\\n            <ul class=\"no-bullet\">\\n              <li><a href=\"/about/faq/\">FAQs</a>\\n              <li><a href=\"/about/contact/\">Contact us</a></li>\\n            </ul>\\n          </div>\\n        </div>\\n      </div>\\n      \\n      <hr />\\n      <div class=\"row align-middle\">\\n        <div class=\"medium-10 column\">\\n            <ul class=\"footer-inline\">\\n                <li><a href=\"/legal/\">Terms & Conditions</a></li>\\n                <li><a href=\"/legal/privacy/\">Privacy Policy</a></li>\\n                <li><a href=\"#/\" onclick=\"window.__tcfapi(\\'displayConsentUi\\', 2, function() {} ); return true;\">Privacy Settings</a></li>\\n                <li><a href=\"/legal/cookies/\">Cookie Policy</a></li>\\n                <li><a href=\"/about/status/\">Site Status</a></li>\\n                <li><a href=\"/about/jobs/\">Vacancies</a></li>\\n            </ul>\\n          \\n            <div class=\"copyright\">Realtime Trains, &copy; 2011-2023 swlines Ltd, its partners and <a href=\"/about/sources/\">data sources</a>. All rights reserved.</div>\\n          \\n        </div>\\n        <div class=\"medium-2 show-for-medium column icons text-right\">\\n          <a href=\"https://discord.gg/mh3Rm9g9rG\"><icon class=\"glyphicons discord\"></icon></a>\\n          <a href=\"https://www.facebook.com/realtimetrains\"><icon class=\"glyphicons facebook\"></icon></a>\\n        </div>\\n      </div>\\n      <div class=\"ad-unit stickyspacer\"></div>\\n    </footer>\\n    <script src=\"/assets/js/app-e3cdcf61.js\"></script>\\n    \\n  </body>\\n</html>'"
      ]
     },
     "execution_count": 6,
     "metadata": {},
     "output_type": "execute_result"
    }
   ],
   "source": [
    "r.content"
   ]
  },
  {
   "cell_type": "code",
   "execution_count": 7,
   "metadata": {},
   "outputs": [
    {
     "data": {
      "text/plain": [
       "'<!doctype html>\\n<html class=\"no-js\" lang=\"en\">\\n  <head>\\n    <meta charset=\"utf-8\" />\\n    <meta http-equiv=\"x-ua-compatible\" content=\"ie=edge\">\\n    <meta name=\"viewport\" content=\"width=device-width, initial-scale=1.0\">\\n    <meta name=\"author\" content=\"Realtime Trains\" />\\n\\n    \\n      <meta name=\"description\" content=\"Realtime Trains is an independent source of live realtime running information for the Great British railway network.\" />\\n    \\n\\n    \\n      <meta property=\"og:title\" content=\"Realtime Trains\" />\\n      <meta property=\"twitter:title\" content=\"Realtime Trains\" />\\n      <title>Realtime Trains</title>\\n    \\n\\n    <!-- preloads -->\\n    <link rel=\"preload\" href=\"/assets/fonts/riftsoft-bold-webfont.woff\" as=\"font\" type=\"font/woff2\" crossorigin>\\n    <link rel=\"preload\" href=\"/assets/fonts/uraniamed-webfont.woff2\" as=\"font\" type=\"font/woff2\" crossorigin>\\n\\n    <link rel=\"stylesheet\" href=\"/assets/css/app-b1a659b9.css\">\\n    \\n\\n    <script type=\"text/javascript\">window[\\'gtag_enable_tcf_support\\'] = true;\\n    (function(w,d,s,l,i){w[l]=w[l]||[];w[l].push({\\'gtm.start\\':\\n      new Date().getTime(),event:\\'gtm.js\\'});var f=d.getElementsByTagName(s)[0],\\n      j=d.createElement(s),dl=l!=\\'dataLayer\\'?\\'&l=\\'+l:\\'\\';j.async=true;j.src=\\n      \\'https://www.googletagmanager.com/gtm.js?id=\\'+i+dl;f.parentNode.insertBefore(j,f);\\n      })(window,document,\\'script\\',\\'dataLayer\\',\\'GTM-MZLS477\\');</script>\\n    \\n\\n    <!-- Default favicon -->\\n    <link rel=\"icon\" href=\"/assets/img/favicon/favicon-32-e1e094d9.png\" sizes=\"32x32\">\\n    <link rel=\"icon\" href=\"/assets/img/favicon/favicon-128-f0525294.png\" sizes=\"128x128\">\\n    <link rel=\"icon\" href=\"/assets/img/favicon/favicon-196-46828a3b.png\" sizes=\"196x196\">\\n\\n    <!-- iOS -->\\n    <link rel=\"apple-touch-icon\" href=\"/assets/img/favicon/favicon-152-8742b687.png\" sizes=\"152x152\">\\n    <link rel=\"apple-touch-icon\" href=\"/assets/img/favicon/favicon-180-ddf7b4d0.png\" sizes=\"180x180\">\\n\\n    <!-- Android -->\\n    <link rel=\"shortcut icon\" href=\"/assets/img/favicon/favicon-196-46828a3b.png\" sizes=\"196x196\">\\n    \\n  </head>\\n  <body class=\" \"   >\\n<div class=\"top-bar-container\">\\n  <div class=\"row column\">\\n    <div class=\"top-bar\">\\n      <div class=\"top-bar-title\">\\n        <div class=\"logo-container\">\\n          <a href=\"/\"><div class=\"logo\" aria-label=\"RTT Logo\"></div></a>\\n        </div>\\n      </div>\\n      <div class=\"text-right responsive-menu\" data-responsive-toggle=\"top-bar-items\" >\\n        <div class=\"title-bar-title\" id=\"title-bar-title\">Menu</div>\\n        <button class=\"menu-icon\" type=\"button\" data-toggle=\"top-bar-items\" aria-labelledby=\"title-bar-title\"></button>\\n      </div>\\n      \\n        <div id=\"top-bar-items\">\\n          <div class=\"top-bar-left\"><ul class=\"menu\">\\n    <li><a href=\"//blog.realtimetrains.com\">News</a>\\n    <li ><a href=\"/search/\">Search</a>\\n    <li><a href=\"/about/\">Contact</a>\\n    <li><a href=\"https://shop.realtimetrains.com\">Shop</a>\\n</ul></div>\\n          <div class=\"top-bar-right\"><form method=\"get\" action=\"/search/handler\">\\n    <ul class=\"menu\">\\n    <li><input type=\"search\" placeholder=\"Quick Search\" name=\"qsearch\">\\n    <li><button class=\"button\" type=\"submit\">Go</button>\\n                        \\n    </ul>\\n</form></div>\\n        </div>\\n      \\n    </div>\\n  </div>\\n</div>\\n<main>\\n    <div class=\"signal-wrap\">\\n    <div class=\"signal\">\\n        <div class=\"head\">\\n            <div class=\"aspects\">\\n                <div class=\"aspect \"></div>\\n                <div class=\"aspect r\"></div>\\n            </div>\\n        </div>\\n        <div class=\"pole\"></div>\\n        <div class=\"plate\">\\n            RTT<br />\\n            404\\n        </div>\\n        <div class=\"pole\"></div>\\n        <div class=\"pole\"></div>\\n    </div>\\n    <div class=\"info\">\\n        <h3>Not found</h3>\\n        <p>\\n           The overhead line equipment for this page is not installed and electric traction cannot proceed further. It may never have been installed, or has been removed. \\n        </p>\\n        <p>\\n           Just in case there was meant to be a page here, we\\'ve asked the website MOM to investigate further.\\n        </p>\\n    </div>\\n</div>\\n\\n</main>    \\n    <footer>\\n      \\n      <hr />\\n      <div class=\"grid-container\">\\n        <div class=\"grid-x grid-y-margin\">\\n          <div class=\"small-6 medium-3 large-auto cell\">\\n            <h5><a href=\"/search/\">View The Trains</a></h5>\\n            <ul class=\"no-bullet\">\\n              <li><a href=\"/search/simple/\">Simple</a>\\n              <li><a href=\"/search/detailed/\">Detailed</a>\\n            </ul>\\n          </div>\\n          <div class=\"small-6 medium-3 large-auto cell\">\\n            <h5><a href=\"/about/developer/\">Data Feeds</a></h5>\\n            <ul class=\"no-bullet\">\\n              <li><a href=\"https://api.rtt.io\">API Portal</a>\\n              <li><a href=\"/about/developer/pull/docs/\">API Documentation</a>\\n            </ul>\\n          </div>\\n          <div class=\"small-6 medium-3 large-auto cell\">\\n            <h5>Help</h5>\\n            <ul class=\"no-bullet\">\\n              <li><a href=\"/about/trackyourtrain/\">Track Your Train</a></li>\\n              <li><a href=\"/about/knowyourtrain/\">Know Your Train</a></li>\\n            </ul>\\n          </div>\\n          <div class=\"small-6 medium-3 large-auto cell\">\\n            <h5><a href=\"/about/\">About us</a></h5>\\n            <ul class=\"no-bullet\">\\n              <li><a href=\"/about/faq/\">FAQs</a>\\n              <li><a href=\"/about/contact/\">Contact us</a></li>\\n            </ul>\\n          </div>\\n        </div>\\n      </div>\\n      \\n      <hr />\\n      <div class=\"row align-middle\">\\n        <div class=\"medium-10 column\">\\n            <ul class=\"footer-inline\">\\n                <li><a href=\"/legal/\">Terms & Conditions</a></li>\\n                <li><a href=\"/legal/privacy/\">Privacy Policy</a></li>\\n                <li><a href=\"#/\" onclick=\"window.__tcfapi(\\'displayConsentUi\\', 2, function() {} ); return true;\">Privacy Settings</a></li>\\n                <li><a href=\"/legal/cookies/\">Cookie Policy</a></li>\\n                <li><a href=\"/about/status/\">Site Status</a></li>\\n                <li><a href=\"/about/jobs/\">Vacancies</a></li>\\n            </ul>\\n          \\n            <div class=\"copyright\">Realtime Trains, &copy; 2011-2023 swlines Ltd, its partners and <a href=\"/about/sources/\">data sources</a>. All rights reserved.</div>\\n          \\n        </div>\\n        <div class=\"medium-2 show-for-medium column icons text-right\">\\n          <a href=\"https://discord.gg/mh3Rm9g9rG\"><icon class=\"glyphicons discord\"></icon></a>\\n          <a href=\"https://www.facebook.com/realtimetrains\"><icon class=\"glyphicons facebook\"></icon></a>\\n        </div>\\n      </div>\\n      <div class=\"ad-unit stickyspacer\"></div>\\n    </footer>\\n    <script src=\"/assets/js/app-e3cdcf61.js\"></script>\\n    \\n  </body>\\n</html>'"
      ]
     },
     "execution_count": 7,
     "metadata": {},
     "output_type": "execute_result"
    }
   ],
   "source": [
    "r.text"
   ]
  },
  {
   "cell_type": "code",
   "execution_count": 8,
   "metadata": {},
   "outputs": [
    {
     "ename": "JSONDecodeError",
     "evalue": "Expecting value: line 1 column 1 (char 0)",
     "output_type": "error",
     "traceback": [
      "\u001b[1;31m---------------------------------------------------------------------------\u001b[0m",
      "\u001b[1;31mJSONDecodeError\u001b[0m                           Traceback (most recent call last)",
      "File \u001b[1;32m~\\AppData\\Local\\Packages\\PythonSoftwareFoundation.Python.3.13_qbz5n2kfra8p0\\LocalCache\\local-packages\\Python313\\site-packages\\requests\\models.py:974\u001b[0m, in \u001b[0;36mResponse.json\u001b[1;34m(self, **kwargs)\u001b[0m\n\u001b[0;32m    973\u001b[0m \u001b[38;5;28;01mtry\u001b[39;00m:\n\u001b[1;32m--> 974\u001b[0m     \u001b[38;5;28;01mreturn\u001b[39;00m \u001b[43mcomplexjson\u001b[49m\u001b[38;5;241;43m.\u001b[39;49m\u001b[43mloads\u001b[49m\u001b[43m(\u001b[49m\u001b[38;5;28;43mself\u001b[39;49m\u001b[38;5;241;43m.\u001b[39;49m\u001b[43mtext\u001b[49m\u001b[43m,\u001b[49m\u001b[43m \u001b[49m\u001b[38;5;241;43m*\u001b[39;49m\u001b[38;5;241;43m*\u001b[39;49m\u001b[43mkwargs\u001b[49m\u001b[43m)\u001b[49m\n\u001b[0;32m    975\u001b[0m \u001b[38;5;28;01mexcept\u001b[39;00m JSONDecodeError \u001b[38;5;28;01mas\u001b[39;00m e:\n\u001b[0;32m    976\u001b[0m     \u001b[38;5;66;03m# Catch JSON-related errors and raise as requests.JSONDecodeError\u001b[39;00m\n\u001b[0;32m    977\u001b[0m     \u001b[38;5;66;03m# This aliases json.JSONDecodeError and simplejson.JSONDecodeError\u001b[39;00m\n",
      "File \u001b[1;32mC:\\Program Files\\WindowsApps\\PythonSoftwareFoundation.Python.3.13_3.13.496.0_x64__qbz5n2kfra8p0\\Lib\\json\\__init__.py:346\u001b[0m, in \u001b[0;36mloads\u001b[1;34m(s, cls, object_hook, parse_float, parse_int, parse_constant, object_pairs_hook, **kw)\u001b[0m\n\u001b[0;32m    343\u001b[0m \u001b[38;5;28;01mif\u001b[39;00m (\u001b[38;5;28mcls\u001b[39m \u001b[38;5;129;01mis\u001b[39;00m \u001b[38;5;28;01mNone\u001b[39;00m \u001b[38;5;129;01mand\u001b[39;00m object_hook \u001b[38;5;129;01mis\u001b[39;00m \u001b[38;5;28;01mNone\u001b[39;00m \u001b[38;5;129;01mand\u001b[39;00m\n\u001b[0;32m    344\u001b[0m         parse_int \u001b[38;5;129;01mis\u001b[39;00m \u001b[38;5;28;01mNone\u001b[39;00m \u001b[38;5;129;01mand\u001b[39;00m parse_float \u001b[38;5;129;01mis\u001b[39;00m \u001b[38;5;28;01mNone\u001b[39;00m \u001b[38;5;129;01mand\u001b[39;00m\n\u001b[0;32m    345\u001b[0m         parse_constant \u001b[38;5;129;01mis\u001b[39;00m \u001b[38;5;28;01mNone\u001b[39;00m \u001b[38;5;129;01mand\u001b[39;00m object_pairs_hook \u001b[38;5;129;01mis\u001b[39;00m \u001b[38;5;28;01mNone\u001b[39;00m \u001b[38;5;129;01mand\u001b[39;00m \u001b[38;5;129;01mnot\u001b[39;00m kw):\n\u001b[1;32m--> 346\u001b[0m     \u001b[38;5;28;01mreturn\u001b[39;00m \u001b[43m_default_decoder\u001b[49m\u001b[38;5;241;43m.\u001b[39;49m\u001b[43mdecode\u001b[49m\u001b[43m(\u001b[49m\u001b[43ms\u001b[49m\u001b[43m)\u001b[49m\n\u001b[0;32m    347\u001b[0m \u001b[38;5;28;01mif\u001b[39;00m \u001b[38;5;28mcls\u001b[39m \u001b[38;5;129;01mis\u001b[39;00m \u001b[38;5;28;01mNone\u001b[39;00m:\n",
      "File \u001b[1;32mC:\\Program Files\\WindowsApps\\PythonSoftwareFoundation.Python.3.13_3.13.496.0_x64__qbz5n2kfra8p0\\Lib\\json\\decoder.py:345\u001b[0m, in \u001b[0;36mJSONDecoder.decode\u001b[1;34m(self, s, _w)\u001b[0m\n\u001b[0;32m    341\u001b[0m \u001b[38;5;250m\u001b[39m\u001b[38;5;124;03m\"\"\"Return the Python representation of ``s`` (a ``str`` instance\u001b[39;00m\n\u001b[0;32m    342\u001b[0m \u001b[38;5;124;03mcontaining a JSON document).\u001b[39;00m\n\u001b[0;32m    343\u001b[0m \n\u001b[0;32m    344\u001b[0m \u001b[38;5;124;03m\"\"\"\u001b[39;00m\n\u001b[1;32m--> 345\u001b[0m obj, end \u001b[38;5;241m=\u001b[39m \u001b[38;5;28;43mself\u001b[39;49m\u001b[38;5;241;43m.\u001b[39;49m\u001b[43mraw_decode\u001b[49m\u001b[43m(\u001b[49m\u001b[43ms\u001b[49m\u001b[43m,\u001b[49m\u001b[43m \u001b[49m\u001b[43midx\u001b[49m\u001b[38;5;241;43m=\u001b[39;49m\u001b[43m_w\u001b[49m\u001b[43m(\u001b[49m\u001b[43ms\u001b[49m\u001b[43m,\u001b[49m\u001b[43m \u001b[49m\u001b[38;5;241;43m0\u001b[39;49m\u001b[43m)\u001b[49m\u001b[38;5;241;43m.\u001b[39;49m\u001b[43mend\u001b[49m\u001b[43m(\u001b[49m\u001b[43m)\u001b[49m\u001b[43m)\u001b[49m\n\u001b[0;32m    346\u001b[0m end \u001b[38;5;241m=\u001b[39m _w(s, end)\u001b[38;5;241m.\u001b[39mend()\n",
      "File \u001b[1;32mC:\\Program Files\\WindowsApps\\PythonSoftwareFoundation.Python.3.13_3.13.496.0_x64__qbz5n2kfra8p0\\Lib\\json\\decoder.py:363\u001b[0m, in \u001b[0;36mJSONDecoder.raw_decode\u001b[1;34m(self, s, idx)\u001b[0m\n\u001b[0;32m    362\u001b[0m \u001b[38;5;28;01mexcept\u001b[39;00m \u001b[38;5;167;01mStopIteration\u001b[39;00m \u001b[38;5;28;01mas\u001b[39;00m err:\n\u001b[1;32m--> 363\u001b[0m     \u001b[38;5;28;01mraise\u001b[39;00m JSONDecodeError(\u001b[38;5;124m\"\u001b[39m\u001b[38;5;124mExpecting value\u001b[39m\u001b[38;5;124m\"\u001b[39m, s, err\u001b[38;5;241m.\u001b[39mvalue) \u001b[38;5;28;01mfrom\u001b[39;00m \u001b[38;5;28;01mNone\u001b[39;00m\n\u001b[0;32m    364\u001b[0m \u001b[38;5;28;01mreturn\u001b[39;00m obj, end\n",
      "\u001b[1;31mJSONDecodeError\u001b[0m: Expecting value: line 1 column 1 (char 0)",
      "\nDuring handling of the above exception, another exception occurred:\n",
      "\u001b[1;31mJSONDecodeError\u001b[0m                           Traceback (most recent call last)",
      "Cell \u001b[1;32mIn[8], line 1\u001b[0m\n\u001b[1;32m----> 1\u001b[0m \u001b[43mr\u001b[49m\u001b[38;5;241;43m.\u001b[39;49m\u001b[43mjson\u001b[49m\u001b[43m(\u001b[49m\u001b[43m)\u001b[49m\n",
      "File \u001b[1;32m~\\AppData\\Local\\Packages\\PythonSoftwareFoundation.Python.3.13_qbz5n2kfra8p0\\LocalCache\\local-packages\\Python313\\site-packages\\requests\\models.py:978\u001b[0m, in \u001b[0;36mResponse.json\u001b[1;34m(self, **kwargs)\u001b[0m\n\u001b[0;32m    974\u001b[0m     \u001b[38;5;28;01mreturn\u001b[39;00m complexjson\u001b[38;5;241m.\u001b[39mloads(\u001b[38;5;28mself\u001b[39m\u001b[38;5;241m.\u001b[39mtext, \u001b[38;5;241m*\u001b[39m\u001b[38;5;241m*\u001b[39mkwargs)\n\u001b[0;32m    975\u001b[0m \u001b[38;5;28;01mexcept\u001b[39;00m JSONDecodeError \u001b[38;5;28;01mas\u001b[39;00m e:\n\u001b[0;32m    976\u001b[0m     \u001b[38;5;66;03m# Catch JSON-related errors and raise as requests.JSONDecodeError\u001b[39;00m\n\u001b[0;32m    977\u001b[0m     \u001b[38;5;66;03m# This aliases json.JSONDecodeError and simplejson.JSONDecodeError\u001b[39;00m\n\u001b[1;32m--> 978\u001b[0m     \u001b[38;5;28;01mraise\u001b[39;00m RequestsJSONDecodeError(e\u001b[38;5;241m.\u001b[39mmsg, e\u001b[38;5;241m.\u001b[39mdoc, e\u001b[38;5;241m.\u001b[39mpos)\n",
      "\u001b[1;31mJSONDecodeError\u001b[0m: Expecting value: line 1 column 1 (char 0)"
     ]
    }
   ],
   "source": [
    "r.json()"
   ]
  },
  {
   "cell_type": "code",
   "execution_count": null,
   "metadata": {},
   "outputs": [
    {
     "ename": "JSONDecodeError",
     "evalue": "Expecting value: line 1 column 1 (char 0)",
     "output_type": "error",
     "traceback": [
      "\u001b[1;31m---------------------------------------------------------------------------\u001b[0m",
      "\u001b[1;31mJSONDecodeError\u001b[0m                           Traceback (most recent call last)",
      "File \u001b[1;32m~\\AppData\\Local\\Packages\\PythonSoftwareFoundation.Python.3.13_qbz5n2kfra8p0\\LocalCache\\local-packages\\Python313\\site-packages\\requests\\models.py:974\u001b[0m, in \u001b[0;36mResponse.json\u001b[1;34m(self, **kwargs)\u001b[0m\n\u001b[0;32m    973\u001b[0m \u001b[38;5;28;01mtry\u001b[39;00m:\n\u001b[1;32m--> 974\u001b[0m     \u001b[38;5;28;01mreturn\u001b[39;00m \u001b[43mcomplexjson\u001b[49m\u001b[38;5;241;43m.\u001b[39;49m\u001b[43mloads\u001b[49m\u001b[43m(\u001b[49m\u001b[38;5;28;43mself\u001b[39;49m\u001b[38;5;241;43m.\u001b[39;49m\u001b[43mtext\u001b[49m\u001b[43m,\u001b[49m\u001b[43m \u001b[49m\u001b[38;5;241;43m*\u001b[39;49m\u001b[38;5;241;43m*\u001b[39;49m\u001b[43mkwargs\u001b[49m\u001b[43m)\u001b[49m\n\u001b[0;32m    975\u001b[0m \u001b[38;5;28;01mexcept\u001b[39;00m JSONDecodeError \u001b[38;5;28;01mas\u001b[39;00m e:\n\u001b[0;32m    976\u001b[0m     \u001b[38;5;66;03m# Catch JSON-related errors and raise as requests.JSONDecodeError\u001b[39;00m\n\u001b[0;32m    977\u001b[0m     \u001b[38;5;66;03m# This aliases json.JSONDecodeError and simplejson.JSONDecodeError\u001b[39;00m\n",
      "File \u001b[1;32mC:\\Program Files\\WindowsApps\\PythonSoftwareFoundation.Python.3.13_3.13.496.0_x64__qbz5n2kfra8p0\\Lib\\json\\__init__.py:346\u001b[0m, in \u001b[0;36mloads\u001b[1;34m(s, cls, object_hook, parse_float, parse_int, parse_constant, object_pairs_hook, **kw)\u001b[0m\n\u001b[0;32m    343\u001b[0m \u001b[38;5;28;01mif\u001b[39;00m (\u001b[38;5;28mcls\u001b[39m \u001b[38;5;129;01mis\u001b[39;00m \u001b[38;5;28;01mNone\u001b[39;00m \u001b[38;5;129;01mand\u001b[39;00m object_hook \u001b[38;5;129;01mis\u001b[39;00m \u001b[38;5;28;01mNone\u001b[39;00m \u001b[38;5;129;01mand\u001b[39;00m\n\u001b[0;32m    344\u001b[0m         parse_int \u001b[38;5;129;01mis\u001b[39;00m \u001b[38;5;28;01mNone\u001b[39;00m \u001b[38;5;129;01mand\u001b[39;00m parse_float \u001b[38;5;129;01mis\u001b[39;00m \u001b[38;5;28;01mNone\u001b[39;00m \u001b[38;5;129;01mand\u001b[39;00m\n\u001b[0;32m    345\u001b[0m         parse_constant \u001b[38;5;129;01mis\u001b[39;00m \u001b[38;5;28;01mNone\u001b[39;00m \u001b[38;5;129;01mand\u001b[39;00m object_pairs_hook \u001b[38;5;129;01mis\u001b[39;00m \u001b[38;5;28;01mNone\u001b[39;00m \u001b[38;5;129;01mand\u001b[39;00m \u001b[38;5;129;01mnot\u001b[39;00m kw):\n\u001b[1;32m--> 346\u001b[0m     \u001b[38;5;28;01mreturn\u001b[39;00m \u001b[43m_default_decoder\u001b[49m\u001b[38;5;241;43m.\u001b[39;49m\u001b[43mdecode\u001b[49m\u001b[43m(\u001b[49m\u001b[43ms\u001b[49m\u001b[43m)\u001b[49m\n\u001b[0;32m    347\u001b[0m \u001b[38;5;28;01mif\u001b[39;00m \u001b[38;5;28mcls\u001b[39m \u001b[38;5;129;01mis\u001b[39;00m \u001b[38;5;28;01mNone\u001b[39;00m:\n",
      "File \u001b[1;32mC:\\Program Files\\WindowsApps\\PythonSoftwareFoundation.Python.3.13_3.13.496.0_x64__qbz5n2kfra8p0\\Lib\\json\\decoder.py:345\u001b[0m, in \u001b[0;36mJSONDecoder.decode\u001b[1;34m(self, s, _w)\u001b[0m\n\u001b[0;32m    341\u001b[0m \u001b[38;5;250m\u001b[39m\u001b[38;5;124;03m\"\"\"Return the Python representation of ``s`` (a ``str`` instance\u001b[39;00m\n\u001b[0;32m    342\u001b[0m \u001b[38;5;124;03mcontaining a JSON document).\u001b[39;00m\n\u001b[0;32m    343\u001b[0m \n\u001b[0;32m    344\u001b[0m \u001b[38;5;124;03m\"\"\"\u001b[39;00m\n\u001b[1;32m--> 345\u001b[0m obj, end \u001b[38;5;241m=\u001b[39m \u001b[38;5;28;43mself\u001b[39;49m\u001b[38;5;241;43m.\u001b[39;49m\u001b[43mraw_decode\u001b[49m\u001b[43m(\u001b[49m\u001b[43ms\u001b[49m\u001b[43m,\u001b[49m\u001b[43m \u001b[49m\u001b[43midx\u001b[49m\u001b[38;5;241;43m=\u001b[39;49m\u001b[43m_w\u001b[49m\u001b[43m(\u001b[49m\u001b[43ms\u001b[49m\u001b[43m,\u001b[49m\u001b[43m \u001b[49m\u001b[38;5;241;43m0\u001b[39;49m\u001b[43m)\u001b[49m\u001b[38;5;241;43m.\u001b[39;49m\u001b[43mend\u001b[49m\u001b[43m(\u001b[49m\u001b[43m)\u001b[49m\u001b[43m)\u001b[49m\n\u001b[0;32m    346\u001b[0m end \u001b[38;5;241m=\u001b[39m _w(s, end)\u001b[38;5;241m.\u001b[39mend()\n",
      "File \u001b[1;32mC:\\Program Files\\WindowsApps\\PythonSoftwareFoundation.Python.3.13_3.13.496.0_x64__qbz5n2kfra8p0\\Lib\\json\\decoder.py:363\u001b[0m, in \u001b[0;36mJSONDecoder.raw_decode\u001b[1;34m(self, s, idx)\u001b[0m\n\u001b[0;32m    362\u001b[0m \u001b[38;5;28;01mexcept\u001b[39;00m \u001b[38;5;167;01mStopIteration\u001b[39;00m \u001b[38;5;28;01mas\u001b[39;00m err:\n\u001b[1;32m--> 363\u001b[0m     \u001b[38;5;28;01mraise\u001b[39;00m JSONDecodeError(\u001b[38;5;124m\"\u001b[39m\u001b[38;5;124mExpecting value\u001b[39m\u001b[38;5;124m\"\u001b[39m, s, err\u001b[38;5;241m.\u001b[39mvalue) \u001b[38;5;28;01mfrom\u001b[39;00m \u001b[38;5;28;01mNone\u001b[39;00m\n\u001b[0;32m    364\u001b[0m \u001b[38;5;28;01mreturn\u001b[39;00m obj, end\n",
      "\u001b[1;31mJSONDecodeError\u001b[0m: Expecting value: line 1 column 1 (char 0)",
      "\nDuring handling of the above exception, another exception occurred:\n",
      "\u001b[1;31mJSONDecodeError\u001b[0m                           Traceback (most recent call last)",
      "Cell \u001b[1;32mIn[2], line 3\u001b[0m\n\u001b[0;32m      1\u001b[0m \u001b[38;5;28;01mimport\u001b[39;00m \u001b[38;5;21;01mpprint\u001b[39;00m\n\u001b[0;32m      2\u001b[0m pp \u001b[38;5;241m=\u001b[39m pprint\u001b[38;5;241m.\u001b[39mPrettyPrinter(indent\u001b[38;5;241m=\u001b[39m\u001b[38;5;241m4\u001b[39m)\n\u001b[1;32m----> 3\u001b[0m pp\u001b[38;5;241m.\u001b[39mpprint(\u001b[43mr\u001b[49m\u001b[38;5;241;43m.\u001b[39;49m\u001b[43mjson\u001b[49m\u001b[43m(\u001b[49m\u001b[43m)\u001b[49m)\n",
      "File \u001b[1;32m~\\AppData\\Local\\Packages\\PythonSoftwareFoundation.Python.3.13_qbz5n2kfra8p0\\LocalCache\\local-packages\\Python313\\site-packages\\requests\\models.py:978\u001b[0m, in \u001b[0;36mResponse.json\u001b[1;34m(self, **kwargs)\u001b[0m\n\u001b[0;32m    974\u001b[0m     \u001b[38;5;28;01mreturn\u001b[39;00m complexjson\u001b[38;5;241m.\u001b[39mloads(\u001b[38;5;28mself\u001b[39m\u001b[38;5;241m.\u001b[39mtext, \u001b[38;5;241m*\u001b[39m\u001b[38;5;241m*\u001b[39mkwargs)\n\u001b[0;32m    975\u001b[0m \u001b[38;5;28;01mexcept\u001b[39;00m JSONDecodeError \u001b[38;5;28;01mas\u001b[39;00m e:\n\u001b[0;32m    976\u001b[0m     \u001b[38;5;66;03m# Catch JSON-related errors and raise as requests.JSONDecodeError\u001b[39;00m\n\u001b[0;32m    977\u001b[0m     \u001b[38;5;66;03m# This aliases json.JSONDecodeError and simplejson.JSONDecodeError\u001b[39;00m\n\u001b[1;32m--> 978\u001b[0m     \u001b[38;5;28;01mraise\u001b[39;00m RequestsJSONDecodeError(e\u001b[38;5;241m.\u001b[39mmsg, e\u001b[38;5;241m.\u001b[39mdoc, e\u001b[38;5;241m.\u001b[39mpos)\n",
      "\u001b[1;31mJSONDecodeError\u001b[0m: Expecting value: line 1 column 1 (char 0)"
     ]
    }
   ],
   "source": [
    "import pprint\n",
    "pp = pprint.PrettyPrinter(indent=4)\n",
    "pp.pprint(r.json())\n"
   ]
  },
  {
   "cell_type": "code",
   "execution_count": null,
   "metadata": {},
   "outputs": [],
   "source": []
  }
 ],
 "metadata": {
  "kernelspec": {
   "display_name": "Python 3",
   "language": "python",
   "name": "python3"
  },
  "language_info": {
   "codemirror_mode": {
    "name": "ipython",
    "version": 3
   },
   "file_extension": ".py",
   "mimetype": "text/x-python",
   "name": "python",
   "nbconvert_exporter": "python",
   "pygments_lexer": "ipython3",
   "version": "3.13.1"
  }
 },
 "nbformat": 4,
 "nbformat_minor": 2
}
